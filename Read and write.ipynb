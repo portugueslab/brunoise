{
 "cells": [
  {
   "cell_type": "code",
   "execution_count": 1,
   "metadata": {},
   "outputs": [],
   "source": [
    "%load_ext autoreload\n",
    "%autoreload 1"
   ]
  },
  {
   "cell_type": "code",
   "execution_count": 2,
   "metadata": {},
   "outputs": [],
   "source": [
    "%matplotlib widget\n",
    "import numpy as np\n",
    "import matplotlib.pyplot as plt\n",
    "import nidaqmx"
   ]
  },
  {
   "cell_type": "code",
   "execution_count": 3,
   "metadata": {},
   "outputs": [],
   "source": [
    "plt.style.use(\"dark_background\")"
   ]
  },
  {
   "cell_type": "code",
   "execution_count": 4,
   "metadata": {},
   "outputs": [],
   "source": [
    "from nidaqmx.stream_readers import AnalogMultiChannelReader, AnalogSingleChannelReader\n",
    "from nidaqmx.stream_writers import AnalogMultiChannelWriter, AnalogSingleChannelWriter\n",
    "from nidaqmx.constants import Edge, AcquisitionType"
   ]
  },
  {
   "cell_type": "code",
   "execution_count": 5,
   "metadata": {},
   "outputs": [],
   "source": [
    "from tqdm.notebook import tqdm"
   ]
  },
  {
   "cell_type": "code",
   "execution_count": 6,
   "metadata": {},
   "outputs": [],
   "source": [
    "from math import ceil"
   ]
  },
  {
   "cell_type": "code",
   "execution_count": 7,
   "metadata": {},
   "outputs": [],
   "source": [
    "from ipywidgets import interact"
   ]
  },
  {
   "cell_type": "code",
   "execution_count": 8,
   "metadata": {},
   "outputs": [
    {
     "ename": "ModuleNotFoundError",
     "evalue": "No module named 'state'",
     "output_type": "error",
     "traceback": [
      "\u001b[1;31m---------------------------------------------------------------------------\u001b[0m",
      "\u001b[1;31mModuleNotFoundError\u001b[0m                       Traceback (most recent call last)",
      "\u001b[1;32m<ipython-input-8-344f6cf43dd5>\u001b[0m in \u001b[0;36m<module>\u001b[1;34m\u001b[0m\n\u001b[1;32m----> 1\u001b[1;33m \u001b[0mget_ipython\u001b[0m\u001b[1;33m(\u001b[0m\u001b[1;33m)\u001b[0m\u001b[1;33m.\u001b[0m\u001b[0mrun_line_magic\u001b[0m\u001b[1;33m(\u001b[0m\u001b[1;34m'aimport'\u001b[0m\u001b[1;33m,\u001b[0m \u001b[1;34m'brunoise.scanning_patterns'\u001b[0m\u001b[1;33m)\u001b[0m\u001b[1;33m\u001b[0m\u001b[1;33m\u001b[0m\u001b[0m\n\u001b[0m",
      "\u001b[1;32m~\\miniconda3\\envs\\twop\\lib\\site-packages\\IPython\\core\\interactiveshell.py\u001b[0m in \u001b[0;36mrun_line_magic\u001b[1;34m(self, magic_name, line, _stack_depth)\u001b[0m\n\u001b[0;32m   2305\u001b[0m                 \u001b[0mkwargs\u001b[0m\u001b[1;33m[\u001b[0m\u001b[1;34m'local_ns'\u001b[0m\u001b[1;33m]\u001b[0m \u001b[1;33m=\u001b[0m \u001b[0msys\u001b[0m\u001b[1;33m.\u001b[0m\u001b[0m_getframe\u001b[0m\u001b[1;33m(\u001b[0m\u001b[0mstack_depth\u001b[0m\u001b[1;33m)\u001b[0m\u001b[1;33m.\u001b[0m\u001b[0mf_locals\u001b[0m\u001b[1;33m\u001b[0m\u001b[1;33m\u001b[0m\u001b[0m\n\u001b[0;32m   2306\u001b[0m             \u001b[1;32mwith\u001b[0m \u001b[0mself\u001b[0m\u001b[1;33m.\u001b[0m\u001b[0mbuiltin_trap\u001b[0m\u001b[1;33m:\u001b[0m\u001b[1;33m\u001b[0m\u001b[1;33m\u001b[0m\u001b[0m\n\u001b[1;32m-> 2307\u001b[1;33m                 \u001b[0mresult\u001b[0m \u001b[1;33m=\u001b[0m \u001b[0mfn\u001b[0m\u001b[1;33m(\u001b[0m\u001b[1;33m*\u001b[0m\u001b[0margs\u001b[0m\u001b[1;33m,\u001b[0m \u001b[1;33m**\u001b[0m\u001b[0mkwargs\u001b[0m\u001b[1;33m)\u001b[0m\u001b[1;33m\u001b[0m\u001b[1;33m\u001b[0m\u001b[0m\n\u001b[0m\u001b[0;32m   2308\u001b[0m             \u001b[1;32mreturn\u001b[0m \u001b[0mresult\u001b[0m\u001b[1;33m\u001b[0m\u001b[1;33m\u001b[0m\u001b[0m\n\u001b[0;32m   2309\u001b[0m \u001b[1;33m\u001b[0m\u001b[0m\n",
      "\u001b[1;32m<C:\\Users\\portugueslab\\miniconda3\\envs\\twop\\lib\\site-packages\\decorator.py:decorator-gen-128>\u001b[0m in \u001b[0;36maimport\u001b[1;34m(self, parameter_s, stream)\u001b[0m\n",
      "\u001b[1;32m~\\miniconda3\\envs\\twop\\lib\\site-packages\\IPython\\core\\magic.py\u001b[0m in \u001b[0;36m<lambda>\u001b[1;34m(f, *a, **k)\u001b[0m\n\u001b[0;32m    185\u001b[0m     \u001b[1;31m# but it's overkill for just that one bit of state.\u001b[0m\u001b[1;33m\u001b[0m\u001b[1;33m\u001b[0m\u001b[1;33m\u001b[0m\u001b[0m\n\u001b[0;32m    186\u001b[0m     \u001b[1;32mdef\u001b[0m \u001b[0mmagic_deco\u001b[0m\u001b[1;33m(\u001b[0m\u001b[0marg\u001b[0m\u001b[1;33m)\u001b[0m\u001b[1;33m:\u001b[0m\u001b[1;33m\u001b[0m\u001b[1;33m\u001b[0m\u001b[0m\n\u001b[1;32m--> 187\u001b[1;33m         \u001b[0mcall\u001b[0m \u001b[1;33m=\u001b[0m \u001b[1;32mlambda\u001b[0m \u001b[0mf\u001b[0m\u001b[1;33m,\u001b[0m \u001b[1;33m*\u001b[0m\u001b[0ma\u001b[0m\u001b[1;33m,\u001b[0m \u001b[1;33m**\u001b[0m\u001b[0mk\u001b[0m\u001b[1;33m:\u001b[0m \u001b[0mf\u001b[0m\u001b[1;33m(\u001b[0m\u001b[1;33m*\u001b[0m\u001b[0ma\u001b[0m\u001b[1;33m,\u001b[0m \u001b[1;33m**\u001b[0m\u001b[0mk\u001b[0m\u001b[1;33m)\u001b[0m\u001b[1;33m\u001b[0m\u001b[1;33m\u001b[0m\u001b[0m\n\u001b[0m\u001b[0;32m    188\u001b[0m \u001b[1;33m\u001b[0m\u001b[0m\n\u001b[0;32m    189\u001b[0m         \u001b[1;32mif\u001b[0m \u001b[0mcallable\u001b[0m\u001b[1;33m(\u001b[0m\u001b[0marg\u001b[0m\u001b[1;33m)\u001b[0m\u001b[1;33m:\u001b[0m\u001b[1;33m\u001b[0m\u001b[1;33m\u001b[0m\u001b[0m\n",
      "\u001b[1;32m~\\miniconda3\\envs\\twop\\lib\\site-packages\\IPython\\extensions\\autoreload.py\u001b[0m in \u001b[0;36maimport\u001b[1;34m(self, parameter_s, stream)\u001b[0m\n\u001b[0;32m    519\u001b[0m         \u001b[1;32melse\u001b[0m\u001b[1;33m:\u001b[0m\u001b[1;33m\u001b[0m\u001b[1;33m\u001b[0m\u001b[0m\n\u001b[0;32m    520\u001b[0m             \u001b[1;32mfor\u001b[0m \u001b[0m_module\u001b[0m \u001b[1;32min\u001b[0m \u001b[1;33m(\u001b[0m\u001b[1;33m[\u001b[0m\u001b[0m_\u001b[0m\u001b[1;33m.\u001b[0m\u001b[0mstrip\u001b[0m\u001b[1;33m(\u001b[0m\u001b[1;33m)\u001b[0m \u001b[1;32mfor\u001b[0m \u001b[0m_\u001b[0m \u001b[1;32min\u001b[0m \u001b[0mmodname\u001b[0m\u001b[1;33m.\u001b[0m\u001b[0msplit\u001b[0m\u001b[1;33m(\u001b[0m\u001b[1;34m','\u001b[0m\u001b[1;33m)\u001b[0m\u001b[1;33m]\u001b[0m\u001b[1;33m)\u001b[0m\u001b[1;33m:\u001b[0m\u001b[1;33m\u001b[0m\u001b[1;33m\u001b[0m\u001b[0m\n\u001b[1;32m--> 521\u001b[1;33m                 \u001b[0mtop_module\u001b[0m\u001b[1;33m,\u001b[0m \u001b[0mtop_name\u001b[0m \u001b[1;33m=\u001b[0m \u001b[0mself\u001b[0m\u001b[1;33m.\u001b[0m\u001b[0m_reloader\u001b[0m\u001b[1;33m.\u001b[0m\u001b[0maimport_module\u001b[0m\u001b[1;33m(\u001b[0m\u001b[0m_module\u001b[0m\u001b[1;33m)\u001b[0m\u001b[1;33m\u001b[0m\u001b[1;33m\u001b[0m\u001b[0m\n\u001b[0m\u001b[0;32m    522\u001b[0m \u001b[1;33m\u001b[0m\u001b[0m\n\u001b[0;32m    523\u001b[0m                 \u001b[1;31m# Inject module to user namespace\u001b[0m\u001b[1;33m\u001b[0m\u001b[1;33m\u001b[0m\u001b[1;33m\u001b[0m\u001b[0m\n",
      "\u001b[1;32m~\\miniconda3\\envs\\twop\\lib\\site-packages\\IPython\\extensions\\autoreload.py\u001b[0m in \u001b[0;36maimport_module\u001b[1;34m(self, module_name)\u001b[0m\n\u001b[0;32m    176\u001b[0m         \u001b[0mself\u001b[0m\u001b[1;33m.\u001b[0m\u001b[0mmark_module_reloadable\u001b[0m\u001b[1;33m(\u001b[0m\u001b[0mmodule_name\u001b[0m\u001b[1;33m)\u001b[0m\u001b[1;33m\u001b[0m\u001b[1;33m\u001b[0m\u001b[0m\n\u001b[0;32m    177\u001b[0m \u001b[1;33m\u001b[0m\u001b[0m\n\u001b[1;32m--> 178\u001b[1;33m         \u001b[0mimport_module\u001b[0m\u001b[1;33m(\u001b[0m\u001b[0mmodule_name\u001b[0m\u001b[1;33m)\u001b[0m\u001b[1;33m\u001b[0m\u001b[1;33m\u001b[0m\u001b[0m\n\u001b[0m\u001b[0;32m    179\u001b[0m         \u001b[0mtop_name\u001b[0m \u001b[1;33m=\u001b[0m \u001b[0mmodule_name\u001b[0m\u001b[1;33m.\u001b[0m\u001b[0msplit\u001b[0m\u001b[1;33m(\u001b[0m\u001b[1;34m'.'\u001b[0m\u001b[1;33m)\u001b[0m\u001b[1;33m[\u001b[0m\u001b[1;36m0\u001b[0m\u001b[1;33m]\u001b[0m\u001b[1;33m\u001b[0m\u001b[1;33m\u001b[0m\u001b[0m\n\u001b[0;32m    180\u001b[0m         \u001b[0mtop_module\u001b[0m \u001b[1;33m=\u001b[0m \u001b[0msys\u001b[0m\u001b[1;33m.\u001b[0m\u001b[0mmodules\u001b[0m\u001b[1;33m[\u001b[0m\u001b[0mtop_name\u001b[0m\u001b[1;33m]\u001b[0m\u001b[1;33m\u001b[0m\u001b[1;33m\u001b[0m\u001b[0m\n",
      "\u001b[1;32m~\\miniconda3\\envs\\twop\\lib\\importlib\\__init__.py\u001b[0m in \u001b[0;36mimport_module\u001b[1;34m(name, package)\u001b[0m\n\u001b[0;32m    125\u001b[0m                 \u001b[1;32mbreak\u001b[0m\u001b[1;33m\u001b[0m\u001b[1;33m\u001b[0m\u001b[0m\n\u001b[0;32m    126\u001b[0m             \u001b[0mlevel\u001b[0m \u001b[1;33m+=\u001b[0m \u001b[1;36m1\u001b[0m\u001b[1;33m\u001b[0m\u001b[1;33m\u001b[0m\u001b[0m\n\u001b[1;32m--> 127\u001b[1;33m     \u001b[1;32mreturn\u001b[0m \u001b[0m_bootstrap\u001b[0m\u001b[1;33m.\u001b[0m\u001b[0m_gcd_import\u001b[0m\u001b[1;33m(\u001b[0m\u001b[0mname\u001b[0m\u001b[1;33m[\u001b[0m\u001b[0mlevel\u001b[0m\u001b[1;33m:\u001b[0m\u001b[1;33m]\u001b[0m\u001b[1;33m,\u001b[0m \u001b[0mpackage\u001b[0m\u001b[1;33m,\u001b[0m \u001b[0mlevel\u001b[0m\u001b[1;33m)\u001b[0m\u001b[1;33m\u001b[0m\u001b[1;33m\u001b[0m\u001b[0m\n\u001b[0m\u001b[0;32m    128\u001b[0m \u001b[1;33m\u001b[0m\u001b[0m\n\u001b[0;32m    129\u001b[0m \u001b[1;33m\u001b[0m\u001b[0m\n",
      "\u001b[1;32m~\\miniconda3\\envs\\twop\\lib\\importlib\\_bootstrap.py\u001b[0m in \u001b[0;36m_gcd_import\u001b[1;34m(name, package, level)\u001b[0m\n",
      "\u001b[1;32m~\\miniconda3\\envs\\twop\\lib\\importlib\\_bootstrap.py\u001b[0m in \u001b[0;36m_find_and_load\u001b[1;34m(name, import_)\u001b[0m\n",
      "\u001b[1;32m~\\miniconda3\\envs\\twop\\lib\\importlib\\_bootstrap.py\u001b[0m in \u001b[0;36m_find_and_load_unlocked\u001b[1;34m(name, import_)\u001b[0m\n",
      "\u001b[1;32m~\\miniconda3\\envs\\twop\\lib\\importlib\\_bootstrap.py\u001b[0m in \u001b[0;36m_call_with_frames_removed\u001b[1;34m(f, *args, **kwds)\u001b[0m\n",
      "\u001b[1;32m~\\miniconda3\\envs\\twop\\lib\\importlib\\_bootstrap.py\u001b[0m in \u001b[0;36m_gcd_import\u001b[1;34m(name, package, level)\u001b[0m\n",
      "\u001b[1;32m~\\miniconda3\\envs\\twop\\lib\\importlib\\_bootstrap.py\u001b[0m in \u001b[0;36m_find_and_load\u001b[1;34m(name, import_)\u001b[0m\n",
      "\u001b[1;32m~\\miniconda3\\envs\\twop\\lib\\importlib\\_bootstrap.py\u001b[0m in \u001b[0;36m_find_and_load_unlocked\u001b[1;34m(name, import_)\u001b[0m\n",
      "\u001b[1;32m~\\miniconda3\\envs\\twop\\lib\\importlib\\_bootstrap.py\u001b[0m in \u001b[0;36m_load_unlocked\u001b[1;34m(spec)\u001b[0m\n",
      "\u001b[1;32m~\\miniconda3\\envs\\twop\\lib\\importlib\\_bootstrap_external.py\u001b[0m in \u001b[0;36mexec_module\u001b[1;34m(self, module)\u001b[0m\n",
      "\u001b[1;32m~\\miniconda3\\envs\\twop\\lib\\importlib\\_bootstrap.py\u001b[0m in \u001b[0;36m_call_with_frames_removed\u001b[1;34m(f, *args, **kwds)\u001b[0m\n",
      "\u001b[1;32m~\\Documents\\python\\twop_python\\brunoise\\__init__.py\u001b[0m in \u001b[0;36m<module>\u001b[1;34m\u001b[0m\n\u001b[0;32m      1\u001b[0m \u001b[0m__version__\u001b[0m \u001b[1;33m=\u001b[0m \u001b[1;34m\"0.1.0\"\u001b[0m\u001b[1;33m\u001b[0m\u001b[1;33m\u001b[0m\u001b[0m\n\u001b[0;32m      2\u001b[0m \u001b[1;33m\u001b[0m\u001b[0m\n\u001b[1;32m----> 3\u001b[1;33m \u001b[1;32mfrom\u001b[0m \u001b[0mbrunoise\u001b[0m\u001b[1;33m.\u001b[0m\u001b[0mmain\u001b[0m \u001b[1;32mimport\u001b[0m \u001b[0mmain\u001b[0m\u001b[1;33m\u001b[0m\u001b[1;33m\u001b[0m\u001b[0m\n\u001b[0m\u001b[0;32m      4\u001b[0m \u001b[1;32mfrom\u001b[0m \u001b[0msys\u001b[0m \u001b[1;32mimport\u001b[0m \u001b[0margv\u001b[0m\u001b[1;33m\u001b[0m\u001b[1;33m\u001b[0m\u001b[0m\n\u001b[0;32m      5\u001b[0m \u001b[1;33m\u001b[0m\u001b[0m\n",
      "\u001b[1;32m~\\Documents\\python\\twop_python\\brunoise\\main.py\u001b[0m in \u001b[0;36m<module>\u001b[1;34m\u001b[0m\n\u001b[0;32m      1\u001b[0m \u001b[1;32mfrom\u001b[0m \u001b[0mPyQt5\u001b[0m\u001b[1;33m.\u001b[0m\u001b[0mQtWidgets\u001b[0m \u001b[1;32mimport\u001b[0m \u001b[0mQApplication\u001b[0m\u001b[1;33m\u001b[0m\u001b[1;33m\u001b[0m\u001b[0m\n\u001b[0;32m      2\u001b[0m \u001b[1;32mimport\u001b[0m \u001b[0mqdarkstyle\u001b[0m\u001b[1;33m\u001b[0m\u001b[1;33m\u001b[0m\u001b[0m\n\u001b[1;32m----> 3\u001b[1;33m \u001b[1;32mfrom\u001b[0m \u001b[0mbrunoise\u001b[0m\u001b[1;33m.\u001b[0m\u001b[0mgui\u001b[0m \u001b[1;32mimport\u001b[0m \u001b[0mTwopViewer\u001b[0m\u001b[1;33m\u001b[0m\u001b[1;33m\u001b[0m\u001b[0m\n\u001b[0m\u001b[0;32m      4\u001b[0m \u001b[1;32mimport\u001b[0m \u001b[0mclick\u001b[0m\u001b[1;33m\u001b[0m\u001b[1;33m\u001b[0m\u001b[0m\n\u001b[0;32m      5\u001b[0m \u001b[1;33m\u001b[0m\u001b[0m\n",
      "\u001b[1;32m~\\Documents\\python\\twop_python\\brunoise\\gui.py\u001b[0m in \u001b[0;36m<module>\u001b[1;34m\u001b[0m\n\u001b[0;32m     12\u001b[0m     \u001b[0mQCheckBox\u001b[0m\u001b[1;33m,\u001b[0m\u001b[1;33m\u001b[0m\u001b[1;33m\u001b[0m\u001b[0m\n\u001b[0;32m     13\u001b[0m )\n\u001b[1;32m---> 14\u001b[1;33m \u001b[1;32mfrom\u001b[0m \u001b[0mstate\u001b[0m \u001b[1;32mimport\u001b[0m \u001b[0mExperimentState\u001b[0m\u001b[1;33m,\u001b[0m \u001b[0mScanningParameters\u001b[0m\u001b[1;33m,\u001b[0m \u001b[0mframe_duration\u001b[0m\u001b[1;33m\u001b[0m\u001b[1;33m\u001b[0m\u001b[0m\n\u001b[0m\u001b[0;32m     15\u001b[0m \u001b[1;32mfrom\u001b[0m \u001b[0mbrunoise\u001b[0m\u001b[1;33m.\u001b[0m\u001b[0mobjective_motor_sliders\u001b[0m \u001b[1;32mimport\u001b[0m \u001b[0mMotionControlXYZ\u001b[0m\u001b[1;33m\u001b[0m\u001b[1;33m\u001b[0m\u001b[0m\n\u001b[0;32m     16\u001b[0m \u001b[1;33m\u001b[0m\u001b[0m\n",
      "\u001b[1;31mModuleNotFoundError\u001b[0m: No module named 'state'"
     ]
    }
   ],
   "source": [
    "%aimport brunoise.scanning_patterns"
   ]
  },
  {
   "cell_type": "code",
   "execution_count": 18,
   "metadata": {},
   "outputs": [],
   "source": [
    "target_framerate = 5"
   ]
  },
  {
   "cell_type": "code",
   "execution_count": 297,
   "metadata": {},
   "outputs": [],
   "source": [
    "a = 1 \n",
    "sample_rate = 1000000\n",
    "fps = 5\n",
    "n_total = sample_rate/fps\n",
    "n_turn = 10\n",
    "n_extra  = 200\n",
    "n_y_approx = (-2*n_turn + np.sqrt(4*n_turn - 4*a*(n_extra -2*n_turn - n_total)))/(2*a)\n",
    "\n",
    "n_y = int(round(n_y_approx))\n",
    "n_x = int(round(a*n_y))\n",
    "\n",
    "n_extra = int(round(n_total - (n_x+2*n_turn)*n_y + 2*n_turn))\n",
    "\n",
    "raw_x, raw_y = twop.scanning_patterns.simple_scanning_pattern(n_x, n_y, n_turn, n_extra)"
   ]
  },
  {
   "cell_type": "code",
   "execution_count": 298,
   "metadata": {},
   "outputs": [],
   "source": [
    "frame_duration = len(raw_x)/sample_rate"
   ]
  },
  {
   "cell_type": "code",
   "execution_count": 309,
   "metadata": {},
   "outputs": [
    {
     "data": {
      "text/plain": [
       "0.0"
      ]
     },
     "execution_count": 309,
     "metadata": {},
     "output_type": "execute_result"
    }
   ],
   "source": [
    "len(raw_x) - n_total"
   ]
  },
  {
   "cell_type": "code",
   "execution_count": 300,
   "metadata": {},
   "outputs": [],
   "source": [
    "extent_x = (-3, 3)\n",
    "extent_y = (-3, 3)\n",
    "pos_x = raw_x*((extent_x[1]-extent_x[0])/n_x) + extent_x[0]\n",
    "pos_y = raw_y*((extent_y[1]-extent_y[0])/n_y) + extent_y[0]"
   ]
  },
  {
   "cell_type": "code",
   "execution_count": 301,
   "metadata": {},
   "outputs": [
    {
     "name": "stderr",
     "output_type": "stream",
     "text": [
      "<ipython-input-301-f96d005d77be>:1: RuntimeWarning: More than 20 figures have been opened. Figures created through the pyplot interface (`matplotlib.pyplot.figure`) are retained until explicitly closed and may consume too much memory. (To control this warning, see the rcParam `figure.max_open_warning`).\n",
      "  fig, ax = plt.subplots()\n"
     ]
    },
    {
     "data": {
      "application/vnd.jupyter.widget-view+json": {
       "model_id": "17b7cc930113436ea342d0ca5256e1e2",
       "version_major": 2,
       "version_minor": 0
      },
      "text/plain": [
       "Canvas(toolbar=Toolbar(toolitems=[('Home', 'Reset original view', 'home', 'home'), ('Back', 'Back to previous …"
      ]
     },
     "metadata": {},
     "output_type": "display_data"
    }
   ],
   "source": [
    "fig, ax = plt.subplots()\n",
    "ax.plot(pos_x, pos_y)\n",
    "ax.set_aspect(1)"
   ]
  },
  {
   "cell_type": "markdown",
   "metadata": {},
   "source": [
    "# Galvo limits"
   ]
  },
  {
   "cell_type": "code",
   "execution_count": 310,
   "metadata": {},
   "outputs": [],
   "source": [
    "n_samples = len(raw_x)\n",
    "time = np.arange(n_samples)/sample_rate\n",
    "write_signals = np.stack([pos_x, pos_y], 0)\n",
    "values_read = np.zeros((2, n_samples))\n",
    "\n",
    "\n",
    "with nidaqmx.Task() as write_task, nidaqmx.Task() as read_task:\n",
    "    # Configure the channels\n",
    "    read_task.ai_channels.add_ai_voltage_chan(\"Dev1/ai1:2\", min_val=-5, max_val=5)\n",
    "    write_task.ao_channels.add_ao_voltage_chan(\"Dev1/ao0:1\", min_val=-5, max_val=5)\n",
    "    \n",
    "    # Set the timing of both to the onboard clock so that they are synchronised\n",
    "    read_task.timing.cfg_samp_clk_timing(rate=sample_rate, source=\"OnboardClock\",\n",
    "                                         active_edge = Edge.RISING,\n",
    "                                         sample_mode=AcquisitionType.CONTINUOUS, samps_per_chan=n_samples)\n",
    "    write_task.timing.cfg_samp_clk_timing(rate=sample_rate, source=\"OnboardClock\",\n",
    "                                          active_edge = Edge.RISING,\n",
    "                                          sample_mode=AcquisitionType.CONTINUOUS, samps_per_chan=n_samples)\n",
    "    \n",
    "    # This is necessary to synchronise reading and wrting\n",
    "    read_task.triggers.start_trigger.cfg_dig_edge_start_trig(\"/Dev1/ao/StartTrigger\", Edge.RISING)\n",
    "    \n",
    "    writer = AnalogMultiChannelWriter(write_task.out_stream)\n",
    "    reader = AnalogMultiChannelReader(read_task.in_stream)\n",
    "    i_save = 0\n",
    "\n",
    "    # The first write has to be defined before the task starts\n",
    "    writer.write_many_sample(write_signals)\n",
    "    read_task.start()\n",
    "    write_task.start()\n",
    "    reader.read_many_sample(\n",
    "        values_read, number_of_samples_per_channel=n_samples,\n",
    "        timeout=1)"
   ]
  },
  {
   "cell_type": "code",
   "execution_count": 311,
   "metadata": {},
   "outputs": [],
   "source": [
    "mystery_offset = 80"
   ]
  },
  {
   "cell_type": "code",
   "execution_count": 312,
   "metadata": {},
   "outputs": [
    {
     "data": {
      "text/plain": [
       "0.2"
      ]
     },
     "execution_count": 312,
     "metadata": {},
     "output_type": "execute_result"
    }
   ],
   "source": [
    "frame_duration"
   ]
  },
  {
   "cell_type": "code",
   "execution_count": 313,
   "metadata": {},
   "outputs": [
    {
     "name": "stderr",
     "output_type": "stream",
     "text": [
      "<ipython-input-313-0f8e58905b15>:7: RuntimeWarning: More than 20 figures have been opened. Figures created through the pyplot interface (`matplotlib.pyplot.figure`) are retained until explicitly closed and may consume too much memory. (To control this warning, see the rcParam `figure.max_open_warning`).\n",
      "  fig, ax = plt.subplots()\n"
     ]
    },
    {
     "data": {
      "application/vnd.jupyter.widget-view+json": {
       "model_id": "65ac909874a94567a76251b722a847f3",
       "version_major": 2,
       "version_minor": 0
      },
      "text/plain": [
       "Canvas(toolbar=Toolbar(toolitems=[('Home', 'Reset original view', 'home', 'home'), ('Back', 'Back to previous …"
      ]
     },
     "metadata": {},
     "output_type": "display_data"
    },
    {
     "data": {
      "text/plain": [
       "<matplotlib.lines.Line2D at 0x163c97591f0>"
      ]
     },
     "execution_count": 313,
     "metadata": {},
     "output_type": "execute_result"
    }
   ],
   "source": [
    "start_ofs = (n_x+n_turn*2)*2 + mystery_offset -n_turn\n",
    "x_ovrl = values_read[0, start_ofs:start_ofs+(n_x+n_turn*2)*10].reshape(10,-1)\n",
    "\n",
    "x_ovrl_odd = np.mean(x_ovrl[::2,:], 0)\n",
    "x_ovrl_even = np.mean(x_ovrl[1::2,:], 0)\n",
    "\n",
    "fig, ax = plt.subplots()\n",
    "ax.plot(x_ovrl_odd[n_turn*2]);\n",
    "ax.plot(x_ovrl_even);\n",
    "ax.axvline(n_turn)\n",
    "ax.axvline(n_x+n_turn)"
   ]
  },
  {
   "cell_type": "code",
   "execution_count": 190,
   "metadata": {},
   "outputs": [
    {
     "name": "stderr",
     "output_type": "stream",
     "text": [
      "<ipython-input-190-69e218ab6205>:1: RuntimeWarning: More than 20 figures have been opened. Figures created through the pyplot interface (`matplotlib.pyplot.figure`) are retained until explicitly closed and may consume too much memory. (To control this warning, see the rcParam `figure.max_open_warning`).\n",
      "  fig, ax = plt.subplots()\n"
     ]
    },
    {
     "data": {
      "application/vnd.jupyter.widget-view+json": {
       "model_id": "407822b1c5874d37bf0797f5e39de479",
       "version_major": 2,
       "version_minor": 0
      },
      "text/plain": [
       "Canvas(toolbar=Toolbar(toolitems=[('Home', 'Reset original view', 'home', 'home'), ('Back', 'Back to previous …"
      ]
     },
     "metadata": {},
     "output_type": "display_data"
    },
    {
     "data": {
      "text/plain": [
       "[<matplotlib.lines.Line2D at 0x163dabf5d30>]"
      ]
     },
     "execution_count": 190,
     "metadata": {},
     "output_type": "execute_result"
    }
   ],
   "source": [
    "fig, ax = plt.subplots()\n",
    "ax.plot(values_read[0, :10000])\n",
    "ax.plot(values_read[1,:10000])"
   ]
  },
  {
   "cell_type": "code",
   "execution_count": 184,
   "metadata": {},
   "outputs": [
    {
     "name": "stderr",
     "output_type": "stream",
     "text": [
      "<ipython-input-184-2744298d4a38>:1: RuntimeWarning: More than 20 figures have been opened. Figures created through the pyplot interface (`matplotlib.pyplot.figure`) are retained until explicitly closed and may consume too much memory. (To control this warning, see the rcParam `figure.max_open_warning`).\n",
      "  fig, ax = plt.subplots()\n"
     ]
    },
    {
     "data": {
      "application/vnd.jupyter.widget-view+json": {
       "model_id": "a5aa80e3ff0648c980980a2e98a8b773",
       "version_major": 2,
       "version_minor": 0
      },
      "text/plain": [
       "Canvas(toolbar=Toolbar(toolitems=[('Home', 'Reset original view', 'home', 'home'), ('Back', 'Back to previous …"
      ]
     },
     "metadata": {},
     "output_type": "display_data"
    }
   ],
   "source": [
    "fig, ax = plt.subplots()\n",
    "ax.scatter(values_read[0,:10000], values_read[1, :10000], s=0.2)\n",
    "ax.set_aspect(1)"
   ]
  },
  {
   "cell_type": "markdown",
   "metadata": {},
   "source": [
    "\n",
    "# Galvo testing"
   ]
  },
  {
   "cell_type": "code",
   "execution_count": null,
   "metadata": {},
   "outputs": [],
   "source": [
    "sample_rate = 500000.0\n",
    "\n",
    "plane_duration = len(raw_x)/sample_rate"
   ]
  },
  {
   "cell_type": "code",
   "execution_count": null,
   "metadata": {},
   "outputs": [],
   "source": [
    "desired_duration = 60*60*2\n",
    "n_repeats = int(round(desired_duration/plane_duration))\n",
    "\n",
    "save_every = 500\n",
    "n_save_subsequent = 10"
   ]
  },
  {
   "cell_type": "code",
   "execution_count": null,
   "metadata": {},
   "outputs": [],
   "source": [
    "n_samples = len(raw_x)\n",
    "time = np.arange(n_samples)/sample_rate\n",
    "write_signals = np.stack([pos_x, pos_y], 0)\n",
    "read_signals = np.zeros((2, n_samples*n_saves*n_save_subsequent))\n",
    "values_read = np.zeros((2, n_samples))\n",
    "                       \n",
    "with nidaqmx.Task() as write_task, nidaqmx.Task() as read_task:\n",
    "    # Configure the channels\n",
    "    read_task.ai_channels.add_ai_voltage_chan(\"Dev1/ai1:2\", min_val=-5, max_val=5)\n",
    "    write_task.ao_channels.add_ao_voltage_chan(\"Dev1/ao0:1\", min_val=-5, max_val=5)\n",
    "    \n",
    "    # Set the timing of both to the onboard clock so that they are synchronised\n",
    "    read_task.timing.cfg_samp_clk_timing(rate=sample_rate, source=\"OnboardClock\",\n",
    "                                         active_edge = Edge.RISING,\n",
    "                                         sample_mode=AcquisitionType.CONTINUOUS, samps_per_chan=n_samples)\n",
    "    write_task.timing.cfg_samp_clk_timing(rate=sample_rate, source=\"OnboardClock\",\n",
    "                                          active_edge = Edge.RISING,\n",
    "                                          sample_mode=AcquisitionType.CONTINUOUS, samps_per_chan=n_samples)\n",
    "    \n",
    "    # This is necessary to synchronise reading and wrting\n",
    "    read_task.triggers.start_trigger.cfg_dig_edge_start_trig(\"/Dev1/ao/StartTrigger\", Edge.RISING)\n",
    "    \n",
    "    writer = AnalogMultiChannelWriter(write_task.out_stream)\n",
    "    reader = AnalogMultiChannelReader(read_task.in_stream)\n",
    "    i_save = 0\n",
    "    for i_frame in tqdm(range(n_repeats)):\n",
    "        # The first write has to be defined before the task starts\n",
    "        writer.write_many_sample(write_signals)\n",
    "        if i_frame == 0:\n",
    "            read_task.start()\n",
    "            write_task.start()\n",
    "        reader.read_many_sample(\n",
    "            values_read, number_of_samples_per_channel=n_samples,\n",
    "            timeout=1)\n",
    "        if (i_frame % save_every) < n_save_subsequent:\n",
    "            read_signals[:, i_save*n_samples:(i_save+1)*n_samples] = values_read\n",
    "            i_save +=1 "
   ]
  },
  {
   "cell_type": "code",
   "execution_count": null,
   "metadata": {},
   "outputs": [],
   "source": [
    "from ipywidgets import interact"
   ]
  },
  {
   "cell_type": "code",
   "execution_count": null,
   "metadata": {},
   "outputs": [],
   "source": [
    "fig, axes = plt.subplots(1, 1, sharex=True)\n",
    "plts = axes.plot(time, write_signals[0,:])"
   ]
  },
  {
   "cell_type": "code",
   "execution_count": null,
   "metadata": {},
   "outputs": [],
   "source": [
    "fig, ax = plt.subplots()\n",
    "i_sig = 1\n",
    "ax.plot(time, write_signals[i_sig,:])\n",
    "\n",
    "ln = ax.plot(time, read_signals[i_sig,0*n_samples:(0+1)*n_samples])\n",
    "ax.autoscale(enable=False)\n",
    "@interact\n",
    "def browse_plot(i_plot:(0, read_signals.shape[1]//(n_samples)-1)=0):\n",
    "\n",
    "    ln[0].set_ydata(read_signals[i_sig,i_plot*n_samples:(i_plot+1)*n_samples])"
   ]
  },
  {
   "cell_type": "code",
   "execution_count": null,
   "metadata": {},
   "outputs": [],
   "source": [
    "fig, ax = plt.subplots()\n",
    "\n",
    "@interact\n",
    "def browse_plot(i_plot:(0, read_signals.shape[1]//(n_samples)-1)=0):\n",
    "    ax.clear()\n",
    "    ax.plot(time, write_signals[0,:])\n",
    "    ax.plot(time, read_signals[0,i_plot*n_samples:(i_plot+1)*n_samples])\n",
    "    ax.set_xlim(0,0.01)"
   ]
  },
  {
   "cell_type": "code",
   "execution_count": null,
   "metadata": {},
   "outputs": [],
   "source": [
    "fig, axes = plt.subplots(2, 1, sharex=True)\n",
    "for i in range(2):\n",
    "    axes[i].plot(time, write_signals[i,:])\n",
    "    axes[i].plot(time, read_signals[i,:n_samples])\n",
    "    axes[i].plot(time, read_signals[i,-n_samples*2:-n_samples])"
   ]
  },
  {
   "cell_type": "markdown",
   "metadata": {},
   "source": [
    "# 2p scanning"
   ]
  },
  {
   "cell_type": "code",
   "execution_count": null,
   "metadata": {},
   "outputs": [],
   "source": [
    "from nidaqmx.constants import LineGrouping"
   ]
  },
  {
   "cell_type": "code",
   "execution_count": null,
   "metadata": {},
   "outputs": [],
   "source": [
    "%aimport twop.objective_motor"
   ]
  },
  {
   "cell_type": "code",
   "execution_count": null,
   "metadata": {},
   "outputs": [],
   "source": [
    "motor = twop.objective_motor.MotorControl(\"COM6\")"
   ]
  },
  {
   "cell_type": "code",
   "execution_count": null,
   "metadata": {},
   "outputs": [],
   "source": [
    "extent_x = (-1, 1)\n",
    "extent_y = (-1, 1)\n",
    "\n",
    "n_x = 400\n",
    "n_y = 400\n",
    "raw_x, raw_y = twop.scanning_patterns.simple_scanning_pattern(n_x, n_y, 10, 300, True)\n",
    "pos_x = raw_x*((extent_x[1]-extent_x[0])/n_x) + extent_x[0]\n",
    "pos_y = raw_y*((extent_y[1]-extent_y[0])/n_y) + extent_y[0]\n",
    "\n",
    "n_bin = 10\n",
    "\n",
    "n_samples_out = len(raw_x)\n",
    "n_samples_in = n_samples_out*n_bin"
   ]
  },
  {
   "cell_type": "code",
   "execution_count": null,
   "metadata": {},
   "outputs": [],
   "source": [
    "sample_rate_out = 500000.0\n",
    "plane_duration = len(raw_x)/sample_rate_out\n",
    "\n",
    "sample_rate_in = n_bin*sample_rate_out"
   ]
  },
  {
   "cell_type": "code",
   "execution_count": null,
   "metadata": {},
   "outputs": [],
   "source": [
    "frame_duration = len(raw_x)/sample_rate_out"
   ]
  },
  {
   "cell_type": "code",
   "execution_count": null,
   "metadata": {},
   "outputs": [],
   "source": [
    "desired_duration = 8*60*60\n",
    "n_repeats = int(round(desired_duration/frame_duration))\n",
    "save_every = 2000\n",
    "n_saves = int(ceil(n_repeats / save_every))\n",
    "n_save_subsequent = 10"
   ]
  },
  {
   "cell_type": "code",
   "execution_count": null,
   "metadata": {},
   "outputs": [],
   "source": [
    "read_signals = np.zeros((3, n_samples_in*n_saves*n_save_subsequent))"
   ]
  },
  {
   "cell_type": "code",
   "execution_count": null,
   "metadata": {},
   "outputs": [],
   "source": [
    "from time import sleep"
   ]
  },
  {
   "cell_type": "markdown",
   "metadata": {},
   "source": [
    "Toggle shutter"
   ]
  },
  {
   "cell_type": "code",
   "execution_count": null,
   "metadata": {},
   "outputs": [],
   "source": [
    "with nidaqmx.Task() as shutter_task:\n",
    "    shutter_task.do_channels.add_do_chan(\"Dev1/port0/line1\", line_grouping=LineGrouping.CHAN_PER_LINE)\n",
    "    shutter_task.write(False, auto_start=True)\n",
    "    shutter_task.write(True, auto_start=True)\n",
    "    shutter_task.write(False, auto_start=True)"
   ]
  },
  {
   "cell_type": "code",
   "execution_count": null,
   "metadata": {},
   "outputs": [],
   "source": [
    "time_in = np.arange(n_samples_in)/sample_rate_in\n",
    "write_signals = np.stack([pos_x, pos_y], 0)\n",
    "values_in = np.zeros((3, n_samples_in))\n",
    "with nidaqmx.Task() as write_task, nidaqmx.Task() as read_task, nidaqmx.Task() as shutter_task:\n",
    "    # Configure the channels\n",
    "    read_task.ai_channels.add_ai_voltage_chan(\"Dev1/ai0:2\", min_val=-5, max_val=5)\n",
    "    write_task.ao_channels.add_ao_voltage_chan(\"Dev1/ao0:1\", min_val=-10, max_val=10)\n",
    "    shutter_task.do_channels.add_do_chan(\"Dev1/port0/line1\", line_grouping=LineGrouping.CHAN_PER_LINE)\n",
    "    \n",
    "    # Set the timing of both to the onboard clock so that they are synchronised\n",
    "    read_task.timing.cfg_samp_clk_timing(rate=sample_rate_in, source=\"OnboardClock\",\n",
    "                                         active_edge = Edge.RISING,\n",
    "                                         sample_mode=AcquisitionType.CONTINUOUS, samps_per_chan=n_samples_in)\n",
    "    write_task.timing.cfg_samp_clk_timing(rate=sample_rate_out, source=\"OnboardClock\",\n",
    "                                          active_edge = Edge.RISING,\n",
    "                                          sample_mode=AcquisitionType.CONTINUOUS, samps_per_chan=n_samples_out)\n",
    "    \n",
    "    # This is necessary to synchronise reading and wrting\n",
    "    read_task.triggers.start_trigger.cfg_dig_edge_start_trig(\"/Dev1/ao/StartTrigger\", Edge.RISING)\n",
    "    \n",
    "    writer = AnalogMultiChannelWriter(write_task.out_stream)\n",
    "    reader = AnalogMultiChannelReader(read_task.in_stream)\n",
    "    \n",
    "    shutter_task.write(False, auto_start=True)\n",
    "    shutter_task.write(True, auto_start=True)\n",
    "    shutter_task.write(False, auto_start=True)\n",
    "    sleep(0.1)\n",
    "    \n",
    "    i_save = 0\n",
    "    for i_frame in tqdm(range(n_repeats)):\n",
    "        # The first write has to be defined before the task starts\n",
    "        writer.write_many_sample(write_signals)\n",
    "        if i_frame == 0:\n",
    "            read_task.start()\n",
    "            write_task.start()\n",
    "        reader.read_many_sample(\n",
    "            values_in, number_of_samples_per_channel=n_samples_in,\n",
    "            timeout=1)\n",
    "        if i_frame % save_every == save_every-1:\n",
    "            motor.move_rel(3, 0.001)\n",
    "        if (i_frame % save_every) < n_save_subsequent:\n",
    "            read_signals[:, i_save*n_samples_in:(i_save+1)*n_samples_in] = values_in[:,:]\n",
    "            i_save += 1\n",
    "    \n",
    "    shutter_task.write(False, auto_start=True)\n",
    "    shutter_task.write(True, auto_start=True)\n",
    "    shutter_task.write(False, auto_start=True)"
   ]
  },
  {
   "cell_type": "markdown",
   "metadata": {},
   "source": [
    "# Image and signal browser"
   ]
  },
  {
   "cell_type": "code",
   "execution_count": null,
   "metadata": {},
   "outputs": [],
   "source": [
    "fig, ax = plt.subplots(1, 1, figsize=(8,6))\n",
    "i_sig = 1\n",
    "\n",
    "image = twop.scanning_patterns.reconstruct_image_pattern(np.roll(values_in[0, :],-400), raw_x, raw_y, (n_y, n_x), n_bin)\n",
    "im = ax.imshow(image, vmin=-1, vmax=0, cmap=\"Greys\")\n",
    "#ax.autoscale(enable=False)\n",
    "@interact\n",
    "def browse_plot(i_plot:(0, read_signals.shape[1]//(n_samples_in)-1)=0):\n",
    "    im.set_data(twop.scanning_patterns.reconstruct_image_pattern(np.roll(read_signals[0, i_plot*n_samples_in:(i_plot+1)*n_samples_in],-400), raw_x, raw_y, (n_y, n_x), n_bin))"
   ]
  },
  {
   "cell_type": "markdown",
   "metadata": {},
   "source": [
    "# Saving"
   ]
  },
  {
   "cell_type": "code",
   "execution_count": null,
   "metadata": {},
   "outputs": [],
   "source": [
    "import flammkuchen as fl"
   ]
  },
  {
   "cell_type": "code",
   "execution_count": null,
   "metadata": {},
   "outputs": [],
   "source": [
    "signals_reshaped = read_signals.reshape(3, -1, n_save_subsequent, n_samples_in//10, 10)"
   ]
  },
  {
   "cell_type": "code",
   "execution_count": null,
   "metadata": {},
   "outputs": [],
   "source": [
    "signals_reshaped.shape"
   ]
  },
  {
   "cell_type": "code",
   "execution_count": null,
   "metadata": {},
   "outputs": [],
   "source": [
    "fl.save(\"TestResults_beauty.h5\", dict(read_signals=signals_reshaped, raw_x=raw_x, raw_y=raw_y, n_x=n_x, n_bin=n_bin), compression=\"blosc\")"
   ]
  },
  {
   "cell_type": "code",
   "execution_count": null,
   "metadata": {},
   "outputs": [],
   "source": []
  }
 ],
 "metadata": {
  "kernelspec": {
   "display_name": "Python 3",
   "language": "python",
   "name": "python3"
  },
  "language_info": {
   "codemirror_mode": {
    "name": "ipython",
    "version": 3
   },
   "file_extension": ".py",
   "mimetype": "text/x-python",
   "name": "python",
   "nbconvert_exporter": "python",
   "pygments_lexer": "ipython3",
   "version": "3.8.1"
  }
 },
 "nbformat": 4,
 "nbformat_minor": 4
}
