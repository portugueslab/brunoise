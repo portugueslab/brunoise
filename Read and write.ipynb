{
 "cells": [
  {
   "cell_type": "code",
   "execution_count": null,
   "metadata": {},
   "outputs": [],
   "source": [
    "%load_ext autoreload\n",
    "%autoreload 1"
   ]
  },
  {
   "cell_type": "code",
   "execution_count": null,
   "metadata": {},
   "outputs": [],
   "source": [
    "%matplotlib widget\n",
    "import numpy as np\n",
    "import matplotlib.pyplot as plt\n",
    "import nidaqmx"
   ]
  },
  {
   "cell_type": "code",
   "execution_count": null,
   "metadata": {},
   "outputs": [],
   "source": [
    "plt.style.use(\"dark_background\")"
   ]
  },
  {
   "cell_type": "code",
   "execution_count": null,
   "metadata": {},
   "outputs": [],
   "source": [
    "from nidaqmx.stream_readers import AnalogMultiChannelReader, AnalogSingleChannelReader\n",
    "from nidaqmx.stream_writers import AnalogMultiChannelWriter, AnalogSingleChannelWriter\n",
    "from nidaqmx.constants import Edge, AcquisitionType"
   ]
  },
  {
   "cell_type": "code",
   "execution_count": null,
   "metadata": {},
   "outputs": [],
   "source": [
    "from tqdm.notebook import tqdm"
   ]
  },
  {
   "cell_type": "code",
   "execution_count": null,
   "metadata": {},
   "outputs": [],
   "source": [
    "from math import ceil"
   ]
  },
  {
   "cell_type": "code",
   "execution_count": null,
   "metadata": {},
   "outputs": [],
   "source": [
    "from ipywidgets import interact"
   ]
  },
  {
   "cell_type": "code",
   "execution_count": null,
   "metadata": {},
   "outputs": [],
   "source": [
    "%aimport twop.scanning_patterns"
   ]
  },
  {
   "cell_type": "code",
   "execution_count": null,
   "metadata": {},
   "outputs": [],
   "source": [
    "extent_x = (-3, 3)\n",
    "extent_y = (-3, 3)\n",
    "\n",
    "n_x = 400\n",
    "n_y = 400\n",
    "raw_x, raw_y = scanning_patterns.simple_scanning_pattern(n_x, n_y, 10, 300, True)\n",
    "pos_x = raw_x*((extent_x[1]-extent_x[0])/n_x) + extent_x[0]\n",
    "pos_y = raw_y*((extent_y[1]-extent_y[0])/n_y) + extent_y[0]"
   ]
  },
  {
   "cell_type": "code",
   "execution_count": null,
   "metadata": {},
   "outputs": [],
   "source": [
    "fig, ax = plt.subplots()\n",
    "ax.plot(pos_x, pos_y)\n",
    "ax.set_aspect(1)"
   ]
  },
  {
   "cell_type": "markdown",
   "metadata": {},
   "source": [
    "\n",
    "# Galvo testing"
   ]
  },
  {
   "cell_type": "code",
   "execution_count": null,
   "metadata": {},
   "outputs": [],
   "source": [
    "sample_rate = 500000.0\n",
    "\n",
    "plane_duration = len(raw_x)/sample_rate"
   ]
  },
  {
   "cell_type": "code",
   "execution_count": null,
   "metadata": {},
   "outputs": [],
   "source": [
    "desired_duration = 60*60*2\n",
    "n_repeats = int(round(desired_duration/plane_duration))\n",
    "\n",
    "save_every = 500\n",
    "n_save_subsequent = 10"
   ]
  },
  {
   "cell_type": "code",
   "execution_count": null,
   "metadata": {},
   "outputs": [],
   "source": [
    "n_samples = len(raw_x)\n",
    "time = np.arange(n_samples)/sample_rate\n",
    "write_signals = np.stack([pos_x, pos_y], 0)\n",
    "read_signals = np.zeros((2, n_samples*n_saves*n_save_subsequent))\n",
    "values_read = np.zeros((2, n_samples))\n",
    "                       \n",
    "with nidaqmx.Task() as write_task, nidaqmx.Task() as read_task:\n",
    "    # Configure the channels\n",
    "    read_task.ai_channels.add_ai_voltage_chan(\"Dev1/ai1:2\", min_val=-5, max_val=5)\n",
    "    write_task.ao_channels.add_ao_voltage_chan(\"Dev1/ao0:1\", min_val=-5, max_val=5)\n",
    "    \n",
    "    # Set the timing of both to the onboard clock so that they are synchronised\n",
    "    read_task.timing.cfg_samp_clk_timing(rate=sample_rate, source=\"OnboardClock\",\n",
    "                                         active_edge = Edge.RISING,\n",
    "                                         sample_mode=AcquisitionType.CONTINUOUS, samps_per_chan=n_samples)\n",
    "    write_task.timing.cfg_samp_clk_timing(rate=sample_rate, source=\"OnboardClock\",\n",
    "                                          active_edge = Edge.RISING,\n",
    "                                          sample_mode=AcquisitionType.CONTINUOUS, samps_per_chan=n_samples)\n",
    "    \n",
    "    # This is necessary to synchronise reading and wrting\n",
    "    read_task.triggers.start_trigger.cfg_dig_edge_start_trig(\"/Dev1/ao/StartTrigger\", Edge.RISING)\n",
    "    \n",
    "    writer = AnalogMultiChannelWriter(write_task.out_stream)\n",
    "    reader = AnalogMultiChannelReader(read_task.in_stream)\n",
    "    i_save = 0\n",
    "    for i_frame in tqdm(range(n_repeats)):\n",
    "        # The first write has to be defined before the task starts\n",
    "        writer.write_many_sample(write_signals)\n",
    "        if i_frame == 0:\n",
    "            read_task.start()\n",
    "            write_task.start()\n",
    "        reader.read_many_sample(\n",
    "            values_read, number_of_samples_per_channel=n_samples,\n",
    "            timeout=1)\n",
    "        if (i_frame % save_every) < n_save_subsequent:\n",
    "            read_signals[:, i_save*n_samples:(i_save+1)*n_samples] = values_read\n",
    "            i_save +=1 "
   ]
  },
  {
   "cell_type": "code",
   "execution_count": null,
   "metadata": {},
   "outputs": [],
   "source": [
    "from ipywidgets import interact"
   ]
  },
  {
   "cell_type": "code",
   "execution_count": null,
   "metadata": {},
   "outputs": [],
   "source": [
    "fig, axes = plt.subplots(1, 1, sharex=True)\n",
    "plts = axes.plot(time, write_signals[0,:])"
   ]
  },
  {
   "cell_type": "code",
   "execution_count": null,
   "metadata": {},
   "outputs": [],
   "source": []
  },
  {
   "cell_type": "code",
   "execution_count": null,
   "metadata": {},
   "outputs": [],
   "source": [
    "ln[0].set_dash_capstyle"
   ]
  },
  {
   "cell_type": "code",
   "execution_count": null,
   "metadata": {},
   "outputs": [],
   "source": [
    "fig, ax = plt.subplots()\n",
    "i_sig = 1\n",
    "ax.plot(time, write_signals[i_sig,:])\n",
    "\n",
    "ln = ax.plot(time, read_signals[i_sig,0*n_samples:(0+1)*n_samples])\n",
    "ax.autoscale(enable=False)\n",
    "@interact\n",
    "def browse_plot(i_plot:(0, read_signals.shape[1]//(n_samples)-1)=0):\n",
    "\n",
    "    ln[0].set_ydata(read_signals[i_sig,i_plot*n_samples:(i_plot+1)*n_samples])"
   ]
  },
  {
   "cell_type": "code",
   "execution_count": null,
   "metadata": {},
   "outputs": [],
   "source": [
    "fig, ax = plt.subplots()\n",
    "\n",
    "@interact\n",
    "def browse_plot(i_plot:(0, read_signals.shape[1]//(n_samples)-1)=0):\n",
    "    ax.clear()\n",
    "    ax.plot(time, write_signals[0,:])\n",
    "    ax.plot(time, read_signals[0,i_plot*n_samples:(i_plot+1)*n_samples])\n",
    "    ax.set_xlim(0,0.01)"
   ]
  },
  {
   "cell_type": "code",
   "execution_count": null,
   "metadata": {},
   "outputs": [],
   "source": [
    "fig, axes = plt.subplots(2, 1, sharex=True)\n",
    "for i in range(2):\n",
    "    axes[i].plot(time, write_signals[i,:])\n",
    "    axes[i].plot(time, read_signals[i,:n_samples])\n",
    "    axes[i].plot(time, read_signals[i,-n_samples*2:-n_samples])"
   ]
  },
  {
   "cell_type": "markdown",
   "metadata": {},
   "source": [
    "# 2p scanning"
   ]
  },
  {
   "cell_type": "code",
   "execution_count": null,
   "metadata": {},
   "outputs": [],
   "source": [
    "from nidaqmx.constants import LineGrouping"
   ]
  },
  {
   "cell_type": "code",
   "execution_count": null,
   "metadata": {},
   "outputs": [],
   "source": [
    "%aimport twop.objective_motor"
   ]
  },
  {
   "cell_type": "code",
   "execution_count": null,
   "metadata": {},
   "outputs": [],
   "source": [
    "motor = twop.objective_motor.MotorControl(\"COM6\")"
   ]
  },
  {
   "cell_type": "code",
   "execution_count": null,
   "metadata": {},
   "outputs": [],
   "source": [
    "extent_x = (-1, 1)\n",
    "extent_y = (-1, 1)\n",
    "\n",
    "n_x = 400\n",
    "n_y = 400\n",
    "raw_x, raw_y = twop.scanning_patterns.simple_scanning_pattern(n_x, n_y, 10, 300, True)\n",
    "pos_x = raw_x*((extent_x[1]-extent_x[0])/n_x) + extent_x[0]\n",
    "pos_y = raw_y*((extent_y[1]-extent_y[0])/n_y) + extent_y[0]\n",
    "\n",
    "n_bin = 10\n",
    "\n",
    "n_samples_out = len(raw_x)\n",
    "n_samples_in = n_samples_out*n_bin"
   ]
  },
  {
   "cell_type": "code",
   "execution_count": null,
   "metadata": {},
   "outputs": [],
   "source": [
    "sample_rate_out = 500000.0\n",
    "plane_duration = len(raw_x)/sample_rate_out\n",
    "\n",
    "sample_rate_in = n_bin*sample_rate_out"
   ]
  },
  {
   "cell_type": "code",
   "execution_count": null,
   "metadata": {},
   "outputs": [],
   "source": [
    "frame_duration = len(raw_x)/sample_rate_out"
   ]
  },
  {
   "cell_type": "code",
   "execution_count": null,
   "metadata": {},
   "outputs": [],
   "source": [
    "desired_duration = 8*60*60\n",
    "n_repeats = int(round(desired_duration/frame_duration))\n",
    "save_every = 2000\n",
    "n_saves = int(ceil(n_repeats / save_every))\n",
    "n_save_subsequent = 10"
   ]
  },
  {
   "cell_type": "code",
   "execution_count": null,
   "metadata": {},
   "outputs": [],
   "source": [
    "read_signals = np.zeros((3, n_samples_in*n_saves*n_save_subsequent))"
   ]
  },
  {
   "cell_type": "code",
   "execution_count": null,
   "metadata": {},
   "outputs": [],
   "source": [
    "from time import sleep"
   ]
  },
  {
   "cell_type": "markdown",
   "metadata": {},
   "source": [
    "Toggle shutter"
   ]
  },
  {
   "cell_type": "code",
   "execution_count": null,
   "metadata": {},
   "outputs": [],
   "source": [
    "with nidaqmx.Task() as shutter_task:\n",
    "    shutter_task.do_channels.add_do_chan(\"Dev1/port0/line1\", line_grouping=LineGrouping.CHAN_PER_LINE)\n",
    "    shutter_task.write(False, auto_start=True)\n",
    "    shutter_task.write(True, auto_start=True)\n",
    "    shutter_task.write(False, auto_start=True)"
   ]
  },
  {
   "cell_type": "code",
   "execution_count": null,
   "metadata": {},
   "outputs": [],
   "source": [
    "time_in = np.arange(n_samples_in)/sample_rate_in\n",
    "write_signals = np.stack([pos_x, pos_y], 0)\n",
    "values_in = np.zeros((3, n_samples_in))\n",
    "with nidaqmx.Task() as write_task, nidaqmx.Task() as read_task, nidaqmx.Task() as shutter_task:\n",
    "    # Configure the channels\n",
    "    read_task.ai_channels.add_ai_voltage_chan(\"Dev1/ai0:2\", min_val=-5, max_val=5)\n",
    "    write_task.ao_channels.add_ao_voltage_chan(\"Dev1/ao0:1\", min_val=-10, max_val=10)\n",
    "    shutter_task.do_channels.add_do_chan(\"Dev1/port0/line1\", line_grouping=LineGrouping.CHAN_PER_LINE)\n",
    "    \n",
    "    # Set the timing of both to the onboard clock so that they are synchronised\n",
    "    read_task.timing.cfg_samp_clk_timing(rate=sample_rate_in, source=\"OnboardClock\",\n",
    "                                         active_edge = Edge.RISING,\n",
    "                                         sample_mode=AcquisitionType.CONTINUOUS, samps_per_chan=n_samples_in)\n",
    "    write_task.timing.cfg_samp_clk_timing(rate=sample_rate_out, source=\"OnboardClock\",\n",
    "                                          active_edge = Edge.RISING,\n",
    "                                          sample_mode=AcquisitionType.CONTINUOUS, samps_per_chan=n_samples_out)\n",
    "    \n",
    "    # This is necessary to synchronise reading and wrting\n",
    "    read_task.triggers.start_trigger.cfg_dig_edge_start_trig(\"/Dev1/ao/StartTrigger\", Edge.RISING)\n",
    "    \n",
    "    writer = AnalogMultiChannelWriter(write_task.out_stream)\n",
    "    reader = AnalogMultiChannelReader(read_task.in_stream)\n",
    "    \n",
    "    shutter_task.write(False, auto_start=True)\n",
    "    shutter_task.write(True, auto_start=True)\n",
    "    shutter_task.write(False, auto_start=True)\n",
    "    sleep(0.1)\n",
    "    \n",
    "    i_save = 0\n",
    "    for i_frame in tqdm(range(n_repeats)):\n",
    "        # The first write has to be defined before the task starts\n",
    "        writer.write_many_sample(write_signals)\n",
    "        if i_frame == 0:\n",
    "            read_task.start()\n",
    "            write_task.start()\n",
    "        reader.read_many_sample(\n",
    "            values_in, number_of_samples_per_channel=n_samples_in,\n",
    "            timeout=1)\n",
    "        if i_frame % save_every == save_every-1:\n",
    "            motor.move_rel(3, 0.001)\n",
    "        if (i_frame % save_every) < n_save_subsequent:\n",
    "            read_signals[:, i_save*n_samples_in:(i_save+1)*n_samples_in] = values_in[:,:]\n",
    "            i_save += 1\n",
    "    \n",
    "    shutter_task.write(False, auto_start=True)\n",
    "    shutter_task.write(True, auto_start=True)\n",
    "    shutter_task.write(False, auto_start=True)"
   ]
  },
  {
   "cell_type": "markdown",
   "metadata": {},
   "source": [
    "# Image and signal browser"
   ]
  },
  {
   "cell_type": "code",
   "execution_count": null,
   "metadata": {},
   "outputs": [],
   "source": [
    "fig, ax = plt.subplots(1, 1, figsize=(8,6))\n",
    "i_sig = 1\n",
    "\n",
    "image = twop.scanning_patterns.reconstruct_image_pattern(np.roll(values_in[0, :],-400), raw_x, raw_y, (n_y, n_x), n_bin)\n",
    "im = ax.imshow(image, vmin=-1, vmax=0, cmap=\"Greys\")\n",
    "#ax.autoscale(enable=False)\n",
    "@interact\n",
    "def browse_plot(i_plot:(0, read_signals.shape[1]//(n_samples_in)-1)=0):\n",
    "    im.set_data(twop.scanning_patterns.reconstruct_image_pattern(np.roll(read_signals[0, i_plot*n_samples_in:(i_plot+1)*n_samples_in],-400), raw_x, raw_y, (n_y, n_x), n_bin))"
   ]
  },
  {
   "cell_type": "markdown",
   "metadata": {},
   "source": [
    "# Saving"
   ]
  },
  {
   "cell_type": "code",
   "execution_count": null,
   "metadata": {},
   "outputs": [],
   "source": [
    "import flammkuchen as fl"
   ]
  },
  {
   "cell_type": "code",
   "execution_count": null,
   "metadata": {},
   "outputs": [],
   "source": [
    "signals_reshaped = read_signals.reshape(3, -1, n_save_subsequent, n_samples_in//10, 10)"
   ]
  },
  {
   "cell_type": "code",
   "execution_count": null,
   "metadata": {},
   "outputs": [],
   "source": [
    "signals_reshaped.shape"
   ]
  },
  {
   "cell_type": "code",
   "execution_count": null,
   "metadata": {},
   "outputs": [],
   "source": [
    "fl.save(\"TestResults_beauty.h5\", dict(read_signals=signals_reshaped, raw_x=raw_x, raw_y=raw_y, n_x=n_x, n_bin=n_bin), compression=\"blosc\")"
   ]
  },
  {
   "cell_type": "code",
   "execution_count": null,
   "metadata": {},
   "outputs": [],
   "source": []
  }
 ],
 "metadata": {
  "kernelspec": {
   "display_name": "Python 3",
   "language": "python",
   "name": "python3"
  },
  "language_info": {
   "codemirror_mode": {
    "name": "ipython",
    "version": 3
   },
   "file_extension": ".py",
   "mimetype": "text/x-python",
   "name": "python",
   "nbconvert_exporter": "python",
   "pygments_lexer": "ipython3",
   "version": "3.8.1"
  }
 },
 "nbformat": 4,
 "nbformat_minor": 4
}
