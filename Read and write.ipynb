{
 "cells": [
  {
   "cell_type": "code",
   "execution_count": null,
   "metadata": {},
   "outputs": [],
   "source": [
    "%matplotlib widget\n",
    "import numpy as np\n",
    "import matplotlib.pyplot as plt\n",
    "import nidaqmx"
   ]
  },
  {
   "cell_type": "code",
   "execution_count": null,
   "metadata": {},
   "outputs": [],
   "source": [
    "from nidaqmx.stream_readers import AnalogMultiChannelReader, AnalogSingleChannelReader\n",
    "from nidaqmx.stream_writers import AnalogMultiChannelWriter, AnalogSingleChannelWriter"
   ]
  },
  {
   "cell_type": "code",
   "execution_count": null,
   "metadata": {},
   "outputs": [],
   "source": [
    "from tqdm.notebook import tqdm"
   ]
  },
  {
   "cell_type": "code",
   "execution_count": null,
   "metadata": {},
   "outputs": [],
   "source": [
    "from nidaqmx.constants import Edge, AcquisitionType"
   ]
  },
  {
   "cell_type": "code",
   "execution_count": null,
   "metadata": {},
   "outputs": [],
   "source": [
    "from numba import jit"
   ]
  },
  {
   "cell_type": "code",
   "execution_count": null,
   "metadata": {},
   "outputs": [],
   "source": [
    "sample_rate = 500000.0\n",
    "duration = 1\n",
    "n_samples = int(round(duration*sample_rate))\n",
    "sine_frequency = 200\n",
    "time = np.linspace(0, duration, n_samples)\n",
    "signal = np.sin(time*sine_frequency*2*np.pi)*3\n",
    "double_signal = np.stack([signal, signal], 0)\n",
    "with nidaqmx.Task() as write_task, nidaqmx.Task() as read_task:\n",
    "    # Configure the channels\n",
    "    read_task.ai_channels.add_ai_voltage_chan(\"Dev1/ai1:2\", min_val=-5, max_val=5)\n",
    "    write_task.ao_channels.add_ao_voltage_chan(\"Dev1/ao0:1\", min_val=-5, max_val=5)\n",
    "    \n",
    "    # Set the timing of both to the onboard clock so that they are synchronised\n",
    "    read_task.timing.cfg_samp_clk_timing(rate=sample_rate, source=\"OnboardClock\",\n",
    "                                         active_edge = Edge.RISING,\n",
    "                                         sample_mode=AcquisitionType.CONTINUOUS, samps_per_chan=n_samples)\n",
    "    write_task.timing.cfg_samp_clk_timing(rate=sample_rate, source=\"OnboardClock\",\n",
    "                                          active_edge = Edge.RISING,\n",
    "                                          sample_mode=AcquisitionType.CONTINUOUS, samps_per_chan=n_samples)\n",
    "    \n",
    "    # This is necessary to synchronise reading and wrting\n",
    "    read_task.triggers.start_trigger.cfg_dig_edge_start_trig(\"/Dev1/ao/StartTrigger\", Edge.RISING)\n",
    "    \n",
    "    writer = AnalogMultiChannelWriter(write_task.out_stream)\n",
    "    reader = AnalogMultiChannelReader(read_task.in_stream)\n",
    "    for i in tqdm(range(10)):\n",
    "        # The first write has to be defined before the task starts\n",
    "        writer.write_many_sample(double_signal)\n",
    "        if i == 0:\n",
    "            read_task.start()\n",
    "            write_task.start()\n",
    "\n",
    "        values_read = np.zeros((2,n_samples), dtype=np.float64)\n",
    "        reader.read_many_sample(\n",
    "            values_read, number_of_samples_per_channel=n_samples,\n",
    "            timeout=11)"
   ]
  },
  {
   "cell_type": "code",
   "execution_count": null,
   "metadata": {},
   "outputs": [],
   "source": [
    "fig, axes = plt.subplots(2, 1, sharex=True)\n",
    "for i in range(2):\n",
    "    axes[i].plot(time, double_signal[i,:])\n",
    "    axes[i].plot(time, values_read[i,:])"
   ]
  }
 ],
 "metadata": {
  "kernelspec": {
   "display_name": "Python 3",
   "language": "python",
   "name": "python3"
  },
  "language_info": {
   "codemirror_mode": {
    "name": "ipython",
    "version": 3
   },
   "file_extension": ".py",
   "mimetype": "text/x-python",
   "name": "python",
   "nbconvert_exporter": "python",
   "pygments_lexer": "ipython3",
   "version": "3.8.1"
  }
 },
 "nbformat": 4,
 "nbformat_minor": 4
}
