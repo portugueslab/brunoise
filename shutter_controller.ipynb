{
 "cells": [
  {
   "cell_type": "code",
   "execution_count": null,
   "id": "5c4fe662",
   "metadata": {},
   "outputs": [],
   "source": [
    "from nidaqmx import Task\n",
    "from nidaqmx.constants import LineGrouping\n",
    "from time import sleep"
   ]
  },
  {
   "cell_type": "code",
   "execution_count": null,
   "id": "beb15078",
   "metadata": {},
   "outputs": [],
   "source": [
    "'''\n",
    "for photo-ablation and -activation\n",
    "the shutter controlled here is the first one, not the one controlled by brunoise\n",
    "\n",
    "exposure: exposure time in second\n",
    "interval: the time between each pulse in second\n",
    "n_reps: the number of pulses\n",
    "'''\n",
    "\n",
    "exposure = 300e-3\n",
    "\n",
    "interval = 500e-3\n",
    "n_reps = 1\n",
    "\n",
    "with Task() as task:\n",
    "    task.do_channels.add_do_chan(\"Dev1/port0/line4\", line_grouping=LineGrouping.CHAN_PER_LINE)\n",
    "    for _ in range(n_reps):\n",
    "        task.write(True, auto_start=True)\n",
    "        sleep(exposure)\n",
    "        task.write(False, auto_start=True)\n",
    "        sleep(interval)"
   ]
  },
  {
   "cell_type": "code",
   "execution_count": null,
   "id": "f6cbacc0",
   "metadata": {},
   "outputs": [],
   "source": [
    "''' open the shutter '''\n",
    "with nidaqmx.Task() as task:\n",
    "    task.do_channels.add_do_chan(\"Dev1/port0/line4\", line_grouping=LineGrouping.CHAN_PER_LINE)\n",
    "    task.write(True, auto_start=True)"
   ]
  },
  {
   "cell_type": "code",
   "execution_count": null,
   "id": "89a02b68",
   "metadata": {},
   "outputs": [],
   "source": [
    "''' close the shutter '''\n",
    "with nidaqmx.Task() as task:\n",
    "    task.do_channels.add_do_chan(\"Dev1/port0/line4\", line_grouping=LineGrouping.CHAN_PER_LINE)\n",
    "    task.write(False, auto_start=True)"
   ]
  },
  {
   "cell_type": "code",
   "execution_count": null,
   "id": "fe3f8c39",
   "metadata": {},
   "outputs": [],
   "source": []
  }
 ],
 "metadata": {
  "kernelspec": {
   "display_name": "Python 3 (ipykernel)",
   "language": "python",
   "name": "python3"
  },
  "language_info": {
   "codemirror_mode": {
    "name": "ipython",
    "version": 3
   },
   "file_extension": ".py",
   "mimetype": "text/x-python",
   "name": "python",
   "nbconvert_exporter": "python",
   "pygments_lexer": "ipython3",
   "version": "3.7.12"
  }
 },
 "nbformat": 4,
 "nbformat_minor": 5
}
